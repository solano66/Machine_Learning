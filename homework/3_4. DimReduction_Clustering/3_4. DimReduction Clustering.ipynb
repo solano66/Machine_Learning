{
 "cells": [
  {
   "cell_type": "markdown",
   "id": "5463a064",
   "metadata": {},
   "source": [
    "# Purpose\n",
    "1. 請為客戶進行貼標，並依其特性進行命名，以幫助行銷部門推出新產品和制定行銷方式。\n",
    "2. 請先進行降維後再分群(依你的判斷選擇降維和分群的方法)"
   ]
  },
  {
   "cell_type": "code",
   "execution_count": 2,
   "id": "f09cf71b",
   "metadata": {},
   "outputs": [],
   "source": [
    "import pandas as pd"
   ]
  },
  {
   "cell_type": "markdown",
   "id": "fc75d890",
   "metadata": {},
   "source": [
    "# 1. import data"
   ]
  },
  {
   "cell_type": "code",
   "execution_count": 4,
   "id": "c565b5ef",
   "metadata": {},
   "outputs": [
    {
     "data": {
      "text/html": [
       "<div>\n",
       "<style scoped>\n",
       "    .dataframe tbody tr th:only-of-type {\n",
       "        vertical-align: middle;\n",
       "    }\n",
       "\n",
       "    .dataframe tbody tr th {\n",
       "        vertical-align: top;\n",
       "    }\n",
       "\n",
       "    .dataframe thead th {\n",
       "        text-align: right;\n",
       "    }\n",
       "</style>\n",
       "<table border=\"1\" class=\"dataframe\">\n",
       "  <thead>\n",
       "    <tr style=\"text-align: right;\">\n",
       "      <th></th>\n",
       "      <th>ID</th>\n",
       "      <th>Sex</th>\n",
       "      <th>Marital status</th>\n",
       "      <th>Age</th>\n",
       "      <th>Education</th>\n",
       "      <th>Income</th>\n",
       "      <th>Occupation</th>\n",
       "      <th>Settlement size</th>\n",
       "    </tr>\n",
       "  </thead>\n",
       "  <tbody>\n",
       "    <tr>\n",
       "      <th>0</th>\n",
       "      <td>100000001</td>\n",
       "      <td>0</td>\n",
       "      <td>0</td>\n",
       "      <td>67</td>\n",
       "      <td>2</td>\n",
       "      <td>124670</td>\n",
       "      <td>1</td>\n",
       "      <td>2</td>\n",
       "    </tr>\n",
       "    <tr>\n",
       "      <th>1</th>\n",
       "      <td>100000002</td>\n",
       "      <td>1</td>\n",
       "      <td>1</td>\n",
       "      <td>22</td>\n",
       "      <td>1</td>\n",
       "      <td>150773</td>\n",
       "      <td>1</td>\n",
       "      <td>2</td>\n",
       "    </tr>\n",
       "    <tr>\n",
       "      <th>2</th>\n",
       "      <td>100000003</td>\n",
       "      <td>0</td>\n",
       "      <td>0</td>\n",
       "      <td>49</td>\n",
       "      <td>1</td>\n",
       "      <td>89210</td>\n",
       "      <td>0</td>\n",
       "      <td>0</td>\n",
       "    </tr>\n",
       "    <tr>\n",
       "      <th>3</th>\n",
       "      <td>100000004</td>\n",
       "      <td>0</td>\n",
       "      <td>0</td>\n",
       "      <td>45</td>\n",
       "      <td>1</td>\n",
       "      <td>171565</td>\n",
       "      <td>1</td>\n",
       "      <td>1</td>\n",
       "    </tr>\n",
       "    <tr>\n",
       "      <th>4</th>\n",
       "      <td>100000005</td>\n",
       "      <td>0</td>\n",
       "      <td>0</td>\n",
       "      <td>53</td>\n",
       "      <td>1</td>\n",
       "      <td>149031</td>\n",
       "      <td>1</td>\n",
       "      <td>1</td>\n",
       "    </tr>\n",
       "  </tbody>\n",
       "</table>\n",
       "</div>"
      ],
      "text/plain": [
       "          ID  Sex  Marital status  Age  Education  Income  Occupation  \\\n",
       "0  100000001    0               0   67          2  124670           1   \n",
       "1  100000002    1               1   22          1  150773           1   \n",
       "2  100000003    0               0   49          1   89210           0   \n",
       "3  100000004    0               0   45          1  171565           1   \n",
       "4  100000005    0               0   53          1  149031           1   \n",
       "\n",
       "   Settlement size  \n",
       "0                2  \n",
       "1                2  \n",
       "2                0  \n",
       "3                1  \n",
       "4                1  "
      ]
     },
     "execution_count": 4,
     "metadata": {},
     "output_type": "execute_result"
    }
   ],
   "source": [
    "df = pd.read_csv('segmentation_data.csv')\n",
    "df.head()"
   ]
  },
  {
   "cell_type": "code",
   "execution_count": 5,
   "id": "c6a3cf13",
   "metadata": {},
   "outputs": [
    {
     "name": "stdout",
     "output_type": "stream",
     "text": [
      "<class 'pandas.core.frame.DataFrame'>\n",
      "RangeIndex: 2000 entries, 0 to 1999\n",
      "Data columns (total 8 columns):\n",
      " #   Column           Non-Null Count  Dtype\n",
      "---  ------           --------------  -----\n",
      " 0   ID               2000 non-null   int64\n",
      " 1   Sex              2000 non-null   int64\n",
      " 2   Marital status   2000 non-null   int64\n",
      " 3   Age              2000 non-null   int64\n",
      " 4   Education        2000 non-null   int64\n",
      " 5   Income           2000 non-null   int64\n",
      " 6   Occupation       2000 non-null   int64\n",
      " 7   Settlement size  2000 non-null   int64\n",
      "dtypes: int64(8)\n",
      "memory usage: 125.1 KB\n"
     ]
    }
   ],
   "source": [
    "df.info()"
   ]
  },
  {
   "cell_type": "markdown",
   "id": "313983b7",
   "metadata": {},
   "source": [
    "#### ID：顯示客戶的唯一標識。\n",
    "\n",
    "#### Sex：\n",
    "0：男性        \n",
    "1：女性        \n",
    "\n",
    "#### Marital status：客戶的婚姻狀況。\n",
    "0：單人        \n",
    "1：非單身（離婚/分居/已婚/喪偶）        \n",
    "\n",
    "#### Age：客戶的年齡（以年為單位），計算方法為當年減去創建數據集時客戶的出生年份\n",
    "18 最小值（數據集中觀察到的最低年齡）        \n",
    "76 最大值（數據集中觀察到的最高年齡）        \n",
    "\n",
    "#### Education：客戶的教育水準。\n",
    "0：其他/未知        \n",
    "1：高中        \n",
    "2：大學        \n",
    "3：研究生院        \n",
    "\n",
    "#### Income：客戶以美元自我報告的年收入。\n",
    "35832 最小值（數據集中觀察到的最低收入）        \n",
    "309364 最大值（數據集中觀察到的最高收入）        \n",
    "\n",
    "#### Occupation ：客戶的職業類別。\n",
    "0：失業 / unskilled        \n",
    "1：skilled employee / official        \n",
    "2：management / self-employed / highly qualified employee / officer        \n",
    "\n",
    "#### Settlement size：客戶居住城市的規模。\n",
    "0：小城市        \n",
    "1：中等城市        \n",
    "2：大城市        "
   ]
  },
  {
   "cell_type": "code",
   "execution_count": null,
   "id": "ab8f8a4d",
   "metadata": {},
   "outputs": [],
   "source": []
  }
 ],
 "metadata": {
  "kernelspec": {
   "display_name": "Python 3 (ipykernel)",
   "language": "python",
   "name": "python3"
  },
  "language_info": {
   "codemirror_mode": {
    "name": "ipython",
    "version": 3
   },
   "file_extension": ".py",
   "mimetype": "text/x-python",
   "name": "python",
   "nbconvert_exporter": "python",
   "pygments_lexer": "ipython3",
   "version": "3.10.10"
  }
 },
 "nbformat": 4,
 "nbformat_minor": 5
}
